{
  "nbformat": 4,
  "nbformat_minor": 0,
  "metadata": {
    "kernelspec": {
      "display_name": "Python 3",
      "language": "python",
      "name": "python3"
    },
    "language_info": {
      "codemirror_mode": {
        "name": "ipython",
        "version": 3
      },
      "file_extension": ".py",
      "mimetype": "text/x-python",
      "name": "python",
      "nbconvert_exporter": "python",
      "pygments_lexer": "ipython3",
      "version": "3.6.5"
    },
    "colab": {
      "name": "Copy of 1.a Concept - Variables assignments, precedence and basic math operations.ipynb",
      "provenance": [],
      "include_colab_link": true
    }
  },
  "cells": [
    {
      "cell_type": "markdown",
      "metadata": {
        "id": "view-in-github",
        "colab_type": "text"
      },
      "source": [
        "<a href=\"https://colab.research.google.com/github/briancmulvey/Hello-World/blob/master/Copy_of_1_a_Concept_Variables_assignments%2C_precedence_and_basic_math_operations.ipynb\" target=\"_parent\"><img src=\"https://colab.research.google.com/assets/colab-badge.svg\" alt=\"Open In Colab\"/></a>"
      ]
    },
    {
      "cell_type": "markdown",
      "metadata": {
        "id": "kZSHRXYZjGrX"
      },
      "source": [
        "# PYTHON PROGRAMMING FUNDAMENTALS\n",
        "# VARIABLE ASSIGNMENT, PRECEDENCE, AND MATH OPERATIONS  "
      ]
    },
    {
      "cell_type": "markdown",
      "metadata": {
        "id": "lfKcokwSjGrg"
      },
      "source": [
        "This Notebook will cover the following topics:    \n",
        "1. Numbers and Basic math operations\n",
        "- Order of Operation (Precedence)\n",
        "- Variable assignment"
      ]
    },
    {
      "cell_type": "markdown",
      "metadata": {
        "id": "l3qGOzjAjGrh"
      },
      "source": [
        "# NUMBERS/BASIC MATH OPERATIONS\n",
        "\n"
      ]
    },
    {
      "cell_type": "markdown",
      "metadata": {
        "id": "PqDVAZfzjGrh"
      },
      "source": [
        "![image.png](attachment:image.png)"
      ]
    },
    {
      "cell_type": "code",
      "metadata": {
        "id": "ve1eoapfjGri"
      },
      "source": [
        ""
      ],
      "execution_count": null,
      "outputs": []
    },
    {
      "cell_type": "code",
      "metadata": {
        "id": "yxq3Z22GjGrj"
      },
      "source": [
        ""
      ],
      "execution_count": null,
      "outputs": []
    },
    {
      "cell_type": "code",
      "metadata": {
        "id": "bWEauQ37jGrj"
      },
      "source": [
        ""
      ],
      "execution_count": null,
      "outputs": []
    },
    {
      "cell_type": "code",
      "metadata": {
        "id": "tUjQf2VMjGrj"
      },
      "source": [
        "2**2"
      ],
      "execution_count": null,
      "outputs": []
    },
    {
      "cell_type": "code",
      "metadata": {
        "id": "M5JN5s8mjGrk"
      },
      "source": [
        "(5*5)/25"
      ],
      "execution_count": null,
      "outputs": []
    },
    {
      "cell_type": "code",
      "metadata": {
        "id": "bSGpNA6fjGrk"
      },
      "source": [
        "25%4"
      ],
      "execution_count": null,
      "outputs": []
    },
    {
      "cell_type": "code",
      "metadata": {
        "id": "L84ojk2ojGrl"
      },
      "source": [
        "abs(-5)"
      ],
      "execution_count": null,
      "outputs": []
    },
    {
      "cell_type": "code",
      "metadata": {
        "id": "JpPOrxFjjGrl"
      },
      "source": [
        "import math\n",
        "math.sqrt(25)"
      ],
      "execution_count": null,
      "outputs": []
    },
    {
      "cell_type": "markdown",
      "metadata": {
        "id": "Vow0BUhrjGrl"
      },
      "source": [
        "# ORDER OF OPERATION "
      ]
    },
    {
      "cell_type": "markdown",
      "metadata": {
        "id": "nM0JymO5jGrm"
      },
      "source": [
        "![image.png](attachment:image.png)\n",
        "Reference: https://en.wikibooks.org/wiki/Python_Programming/Basic_Math\n"
      ]
    },
    {
      "cell_type": "code",
      "metadata": {
        "id": "bTQ_SmPMjGrm"
      },
      "source": [
        "(1 + 2) * 3"
      ],
      "execution_count": null,
      "outputs": []
    },
    {
      "cell_type": "code",
      "metadata": {
        "id": "DMW5eCNAjGrm"
      },
      "source": [
        "1 + 2 * 3"
      ],
      "execution_count": null,
      "outputs": []
    },
    {
      "cell_type": "code",
      "metadata": {
        "id": "4mtxx_vOjGrn"
      },
      "source": [
        "16 / 4 + 25 / 5"
      ],
      "execution_count": null,
      "outputs": []
    },
    {
      "cell_type": "code",
      "metadata": {
        "id": "2Rle68hUjGrn"
      },
      "source": [
        "16 / (4 + 25) / 5"
      ],
      "execution_count": null,
      "outputs": []
    },
    {
      "cell_type": "markdown",
      "metadata": {
        "id": "mL7p-4UujGrn"
      },
      "source": [
        "# VARIABLE ASSIGNMENT\n",
        "- An assignment statement is a line containing at least one single equal sign ( = ). \n",
        "- Assignment expression has a target that is \"variable name\". \n",
        "- Python will evaluate the expression on the right of the variable name, reduce it to a single value, and bind the variable name to the that value."
      ]
    },
    {
      "cell_type": "code",
      "metadata": {
        "id": "NczoMyhEjGro"
      },
      "source": [
        "a = 5"
      ],
      "execution_count": null,
      "outputs": []
    },
    {
      "cell_type": "code",
      "metadata": {
        "id": "Ww4zW1tajGro"
      },
      "source": [
        "a"
      ],
      "execution_count": null,
      "outputs": []
    },
    {
      "cell_type": "code",
      "metadata": {
        "id": "i9D3RQX8jGrp"
      },
      "source": [
        "b = 10"
      ],
      "execution_count": null,
      "outputs": []
    },
    {
      "cell_type": "code",
      "metadata": {
        "id": "T1pjH-OJjGrp"
      },
      "source": [
        "b"
      ],
      "execution_count": null,
      "outputs": []
    },
    {
      "cell_type": "code",
      "metadata": {
        "id": "koHouJTGjGrq"
      },
      "source": [
        "type(b)"
      ],
      "execution_count": null,
      "outputs": []
    },
    {
      "cell_type": "code",
      "metadata": {
        "id": "VABM3w_BjGrq"
      },
      "source": [
        "c = a * b"
      ],
      "execution_count": null,
      "outputs": []
    },
    {
      "cell_type": "code",
      "metadata": {
        "id": "4Mrr09twjGrq"
      },
      "source": [
        "c"
      ],
      "execution_count": null,
      "outputs": []
    },
    {
      "cell_type": "code",
      "metadata": {
        "id": "J6cUht6fjGrr"
      },
      "source": [
        "type(c)"
      ],
      "execution_count": null,
      "outputs": []
    },
    {
      "cell_type": "code",
      "metadata": {
        "id": "Q1czg8OJjGrr"
      },
      "source": [
        "y = 6\n",
        "y += 1 "
      ],
      "execution_count": null,
      "outputs": []
    },
    {
      "cell_type": "code",
      "metadata": {
        "id": "LWq0d7jfjGrr"
      },
      "source": [
        "y"
      ],
      "execution_count": null,
      "outputs": []
    },
    {
      "cell_type": "code",
      "metadata": {
        "id": "mb5sCstSjGrr"
      },
      "source": [
        "y = 6\n",
        "y = y+1"
      ],
      "execution_count": null,
      "outputs": []
    },
    {
      "cell_type": "code",
      "metadata": {
        "id": "uItB6RqbjGrs"
      },
      "source": [
        "y"
      ],
      "execution_count": null,
      "outputs": []
    },
    {
      "cell_type": "markdown",
      "metadata": {
        "id": "E5Ye05QHjGrs"
      },
      "source": [
        "# YOU ARE GETTING CLOSER TO MASTER PYTHON! KEEP IT UP!"
      ]
    }
  ]
}